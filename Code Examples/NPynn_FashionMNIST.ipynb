{
  "nbformat": 4,
  "nbformat_minor": 0,
  "metadata": {
    "colab": {
      "name": "NPynn-MNIST.ipynb",
      "provenance": []
    },
    "kernelspec": {
      "name": "python3",
      "display_name": "Python 3"
    },
    "accelerator": "GPU"
  },
  "cells": [
    {
      "cell_type": "code",
      "metadata": {
        "id": "UzXJ32iPDcrR"
      },
      "source": [
        "from keras.datasets import fashion_mnist\r\n",
        "from NPynn import *\r\n",
        "import numpy as np"
      ],
      "execution_count": 23,
      "outputs": []
    },
    {
      "cell_type": "code",
      "metadata": {
        "id": "H-7UABn03OSO",
        "colab": {
          "base_uri": "https://localhost:8080/"
        },
        "outputId": "3b5a0dbf-1d8c-43e5-abf3-824976ad3e0a"
      },
      "source": [
        "(X, y), (X_test, y_test) = fashion_mnist.load_data()"
      ],
      "execution_count": 12,
      "outputs": [
        {
          "output_type": "stream",
          "text": [
            "Downloading data from https://storage.googleapis.com/tensorflow/tf-keras-datasets/train-labels-idx1-ubyte.gz\n",
            "32768/29515 [=================================] - 0s 0us/step\n",
            "Downloading data from https://storage.googleapis.com/tensorflow/tf-keras-datasets/train-images-idx3-ubyte.gz\n",
            "26427392/26421880 [==============================] - 0s 0us/step\n",
            "Downloading data from https://storage.googleapis.com/tensorflow/tf-keras-datasets/t10k-labels-idx1-ubyte.gz\n",
            "8192/5148 [===============================================] - 0s 0us/step\n",
            "Downloading data from https://storage.googleapis.com/tensorflow/tf-keras-datasets/t10k-images-idx3-ubyte.gz\n",
            "4423680/4422102 [==============================] - 0s 0us/step\n"
          ],
          "name": "stdout"
        }
      ]
    },
    {
      "cell_type": "code",
      "metadata": {
        "id": "mwSuAphM4vUw"
      },
      "source": [
        "X = (X.reshape(X.shape[0], -1).astype(np.float32) - 127.5) / 127.5\r\n",
        "X_test = (X_test.reshape(X_test.shape[0], -1).astype(np.float32) -\r\n",
        " 127.5) / 127.5\r\n"
      ],
      "execution_count": 13,
      "outputs": []
    },
    {
      "cell_type": "code",
      "metadata": {
        "id": "uv5YiGHz5MRG"
      },
      "source": [
        "\r\n",
        "model = Net()\r\n",
        "\r\n",
        "# Add layers\r\n",
        "model.add(Layer_Dense(X.shape[1], 128))\r\n",
        "model.add(Activation_ReLU())\r\n",
        "model.add(Layer_Dense(128, 128))\r\n",
        "model.add(Activation_ReLU())\r\n",
        "model.add(Layer_Dense(128, 10))\r\n",
        "model.add(Activation_Softmax())"
      ],
      "execution_count": 18,
      "outputs": []
    },
    {
      "cell_type": "code",
      "metadata": {
        "id": "dgaIqiRv5hxN"
      },
      "source": [
        "model.set(\r\n",
        " loss=Loss_CategoricalCrossentropy(),\r\n",
        " optimizer=Optimizer_Adam(decay=5e-5),\r\n",
        " accuracy=Accuracy_Categorical()\r\n",
        ")"
      ],
      "execution_count": 19,
      "outputs": []
    },
    {
      "cell_type": "code",
      "metadata": {
        "id": "k_Swyyae5vYd"
      },
      "source": [
        "model.finalize()"
      ],
      "execution_count": 20,
      "outputs": []
    },
    {
      "cell_type": "code",
      "metadata": {
        "colab": {
          "base_uri": "https://localhost:8080/"
        },
        "id": "u9j1mUwR8XG0",
        "outputId": "0482aca8-e7b3-429d-8567-b1b0268e43c1"
      },
      "source": [
        "model.train(X, y, validation_data=(X_test, y_test),\r\n",
        " epochs=5, batch_size=128, print_every=100)"
      ],
      "execution_count": 21,
      "outputs": [
        {
          "output_type": "stream",
          "text": [
            "epoch: 1\n",
            "step: 0, acc: 0.086, loss: 2.302, lr: 0.001\n",
            "step: 100, acc: 0.758, loss: 0.535, lr: 0.0009950248756218907\n",
            "step: 200, acc: 0.789, loss: 0.470, lr: 0.0009900990099009901\n",
            "step: 300, acc: 0.797, loss: 0.486, lr: 0.0009852216748768474\n",
            "step: 400, acc: 0.805, loss: 0.484, lr: 0.000980392156862745\n",
            "step: 468, acc: 0.844, loss: 0.401, lr: 0.0009771350400625367\n",
            "training, acc: 0.763, loss: 0.638, lr: 0.0009771350400625367\n",
            "validation, acc: 0.820, loss: 0.497\n",
            "epoch: 2\n",
            "step: 0, acc: 0.859, loss: 0.352, lr: 0.0009770873027505008\n",
            "step: 100, acc: 0.852, loss: 0.329, lr: 0.000972337012008362\n",
            "step: 200, acc: 0.875, loss: 0.322, lr: 0.0009676326866321544\n",
            "step: 300, acc: 0.859, loss: 0.360, lr: 0.0009629736626703259\n",
            "step: 400, acc: 0.836, loss: 0.405, lr: 0.0009583592888974076\n",
            "step: 468, acc: 0.854, loss: 0.336, lr: 0.0009552466924583273\n",
            "training, acc: 0.847, loss: 0.420, lr: 0.0009552466924583273\n",
            "validation, acc: 0.844, loss: 0.432\n",
            "epoch: 3\n",
            "step: 0, acc: 0.898, loss: 0.266, lr: 0.0009552010698251983\n",
            "step: 100, acc: 0.867, loss: 0.288, lr: 0.0009506607091928891\n",
            "step: 200, acc: 0.883, loss: 0.297, lr: 0.0009461633077869241\n",
            "step: 300, acc: 0.906, loss: 0.305, lr: 0.0009417082587814295\n",
            "step: 400, acc: 0.844, loss: 0.367, lr: 0.0009372949667260287\n",
            "step: 468, acc: 0.875, loss: 0.300, lr: 0.000934317481080071\n",
            "training, acc: 0.862, loss: 0.375, lr: 0.000934317481080071\n",
            "validation, acc: 0.854, loss: 0.401\n",
            "epoch: 4\n",
            "step: 0, acc: 0.914, loss: 0.220, lr: 0.0009342738356612324\n",
            "step: 100, acc: 0.875, loss: 0.261, lr: 0.0009299297903008323\n",
            "step: 200, acc: 0.867, loss: 0.283, lr: 0.0009256259545517657\n",
            "step: 300, acc: 0.906, loss: 0.285, lr: 0.0009213617727000506\n",
            "step: 400, acc: 0.867, loss: 0.339, lr: 0.0009171366992250195\n",
            "step: 468, acc: 0.896, loss: 0.275, lr: 0.0009142857142857143\n",
            "training, acc: 0.874, loss: 0.344, lr: 0.0009142857142857143\n",
            "validation, acc: 0.860, loss: 0.383\n",
            "epoch: 5\n",
            "step: 0, acc: 0.938, loss: 0.193, lr: 0.0009142439202779302\n",
            "step: 100, acc: 0.875, loss: 0.247, lr: 0.0009100837277029487\n",
            "step: 200, acc: 0.867, loss: 0.271, lr: 0.0009059612248595759\n",
            "step: 300, acc: 0.914, loss: 0.273, lr: 0.0009018759018759019\n",
            "step: 400, acc: 0.883, loss: 0.321, lr: 0.0008978272580355541\n",
            "step: 468, acc: 0.885, loss: 0.268, lr: 0.0008950948800572861\n",
            "training, acc: 0.882, loss: 0.320, lr: 0.0008950948800572861\n",
            "validation, acc: 0.861, loss: 0.376\n"
          ],
          "name": "stdout"
        }
      ]
    },
    {
      "cell_type": "code",
      "metadata": {
        "id": "FRDRUV1F8dC-"
      },
      "source": [
        ""
      ],
      "execution_count": null,
      "outputs": []
    }
  ]
}