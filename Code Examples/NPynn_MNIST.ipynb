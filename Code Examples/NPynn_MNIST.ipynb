{
  "nbformat": 4,
  "nbformat_minor": 0,
  "metadata": {
    "colab": {
      "name": "NPynn-MNIST.ipynb",
      "provenance": []
    },
    "kernelspec": {
      "name": "python3",
      "display_name": "Python 3"
    },
    "accelerator": "GPU"
  },
  "cells": [
    {
      "cell_type": "code",
      "metadata": {
        "id": "UzXJ32iPDcrR"
      },
      "source": [
        "from keras.datasets import mnist\r\n",
        "from NPynn import *\r\n",
        "import numpy as np"
      ],
      "execution_count": 3,
      "outputs": []
    },
    {
      "cell_type": "code",
      "metadata": {
        "id": "H-7UABn03OSO",
        "colab": {
          "base_uri": "https://localhost:8080/"
        },
        "outputId": "025e6e39-f1c0-49d4-c599-92d04d84f6da"
      },
      "source": [
        "(X, y), (X_test, y_test) = mnist.load_data()"
      ],
      "execution_count": 4,
      "outputs": [
        {
          "output_type": "stream",
          "text": [
            "Downloading data from https://storage.googleapis.com/tensorflow/tf-keras-datasets/mnist.npz\n",
            "11493376/11490434 [==============================] - 0s 0us/step\n"
          ],
          "name": "stdout"
        }
      ]
    },
    {
      "cell_type": "code",
      "metadata": {
        "id": "mwSuAphM4vUw"
      },
      "source": [
        "X = (X.reshape(X.shape[0], -1).astype(np.float32) - 127.5) / 127.5\r\n",
        "X_test = (X_test.reshape(X_test.shape[0], -1).astype(np.float32) -\r\n",
        " 127.5) / 127.5\r\n"
      ],
      "execution_count": 5,
      "outputs": []
    },
    {
      "cell_type": "code",
      "metadata": {
        "id": "uv5YiGHz5MRG"
      },
      "source": [
        "\r\n",
        "model = Net()\r\n",
        "\r\n",
        "# Add layers\r\n",
        "model.add(Layer_Dense(X.shape[1], 64))\r\n",
        "model.add(Activation_ReLU())\r\n",
        "model.add(Layer_Dense(64, 64))\r\n",
        "model.add(Activation_ReLU())\r\n",
        "model.add(Layer_Dense(64, 10))\r\n",
        "model.add(Activation_Softmax())"
      ],
      "execution_count": 6,
      "outputs": []
    },
    {
      "cell_type": "code",
      "metadata": {
        "id": "dgaIqiRv5hxN"
      },
      "source": [
        "model.set(\r\n",
        " loss=Loss_CategoricalCrossentropy(),\r\n",
        " optimizer=Optimizer_Adam(decay=5e-5),\r\n",
        " accuracy=Accuracy_Categorical()\r\n",
        ")"
      ],
      "execution_count": 7,
      "outputs": []
    },
    {
      "cell_type": "code",
      "metadata": {
        "id": "k_Swyyae5vYd"
      },
      "source": [
        "model.finalize()"
      ],
      "execution_count": 8,
      "outputs": []
    },
    {
      "cell_type": "code",
      "metadata": {
        "colab": {
          "base_uri": "https://localhost:8080/"
        },
        "id": "u9j1mUwR8XG0",
        "outputId": "9d4fc3da-205f-4874-8881-6473189eff63"
      },
      "source": [
        "model.train(X, y, validation_data=(X_test, y_test),\r\n",
        " epochs=5, batch_size=128, print_every=100)"
      ],
      "execution_count": 9,
      "outputs": [
        {
          "output_type": "stream",
          "text": [
            "epoch: 1\n",
            "step: 0, acc: 0.164, loss: 2.303, lr: 0.001\n",
            "step: 100, acc: 0.703, loss: 0.877, lr: 0.0009950248756218907\n",
            "step: 200, acc: 0.820, loss: 0.525, lr: 0.0009900990099009901\n",
            "step: 300, acc: 0.875, loss: 0.451, lr: 0.0009852216748768474\n",
            "step: 400, acc: 0.797, loss: 0.664, lr: 0.000980392156862745\n",
            "step: 468, acc: 0.865, loss: 0.448, lr: 0.0009771350400625367\n",
            "training, acc: 0.762, loss: 0.736, lr: 0.0009771350400625367\n",
            "validation, acc: 0.881, loss: 0.384\n",
            "epoch: 2\n",
            "step: 0, acc: 0.922, loss: 0.283, lr: 0.0009770873027505008\n",
            "step: 100, acc: 0.891, loss: 0.320, lr: 0.000972337012008362\n",
            "step: 200, acc: 0.891, loss: 0.325, lr: 0.0009676326866321544\n",
            "step: 300, acc: 0.938, loss: 0.266, lr: 0.0009629736626703259\n",
            "step: 400, acc: 0.875, loss: 0.407, lr: 0.0009583592888974076\n",
            "step: 468, acc: 0.906, loss: 0.352, lr: 0.0009552466924583273\n",
            "training, acc: 0.898, loss: 0.343, lr: 0.0009552466924583273\n",
            "validation, acc: 0.910, loss: 0.290\n",
            "epoch: 3\n",
            "step: 0, acc: 0.969, loss: 0.161, lr: 0.0009552010698251983\n",
            "step: 100, acc: 0.938, loss: 0.205, lr: 0.0009506607091928891\n",
            "step: 200, acc: 0.922, loss: 0.264, lr: 0.0009461633077869241\n",
            "step: 300, acc: 0.961, loss: 0.184, lr: 0.0009417082587814295\n",
            "step: 400, acc: 0.906, loss: 0.296, lr: 0.0009372949667260287\n",
            "step: 468, acc: 0.958, loss: 0.293, lr: 0.000934317481080071\n",
            "training, acc: 0.923, loss: 0.260, lr: 0.000934317481080071\n",
            "validation, acc: 0.928, loss: 0.230\n",
            "epoch: 4\n",
            "step: 0, acc: 0.977, loss: 0.127, lr: 0.0009342738356612324\n",
            "step: 100, acc: 0.969, loss: 0.137, lr: 0.0009299297903008323\n",
            "step: 200, acc: 0.922, loss: 0.214, lr: 0.0009256259545517657\n",
            "step: 300, acc: 0.969, loss: 0.138, lr: 0.0009213617727000506\n",
            "step: 400, acc: 0.922, loss: 0.232, lr: 0.0009171366992250195\n",
            "step: 468, acc: 0.958, loss: 0.259, lr: 0.0009142857142857143\n",
            "training, acc: 0.937, loss: 0.209, lr: 0.0009142857142857143\n",
            "validation, acc: 0.941, loss: 0.192\n",
            "epoch: 5\n",
            "step: 0, acc: 0.977, loss: 0.114, lr: 0.0009142439202779302\n",
            "step: 100, acc: 0.984, loss: 0.105, lr: 0.0009100837277029487\n",
            "step: 200, acc: 0.930, loss: 0.186, lr: 0.0009059612248595759\n",
            "step: 300, acc: 0.977, loss: 0.114, lr: 0.0009018759018759019\n",
            "step: 400, acc: 0.938, loss: 0.202, lr: 0.0008978272580355541\n",
            "step: 468, acc: 0.969, loss: 0.229, lr: 0.0008950948800572861\n",
            "training, acc: 0.947, loss: 0.177, lr: 0.0008950948800572861\n",
            "validation, acc: 0.949, loss: 0.168\n"
          ],
          "name": "stdout"
        }
      ]
    },
    {
      "cell_type": "code",
      "metadata": {
        "id": "FRDRUV1F8dC-"
      },
      "source": [
        ""
      ],
      "execution_count": null,
      "outputs": []
    }
  ]
}